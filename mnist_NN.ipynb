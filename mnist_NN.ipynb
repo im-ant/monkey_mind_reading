{
 "cells": [
  {
   "cell_type": "code",
   "execution_count": 24,
   "metadata": {},
   "outputs": [],
   "source": [
    "#Import packages\n",
    "import numpy as np\n",
    "from keras.datasets import mnist\n",
    "from keras.models import Sequential\n",
    "from keras.layers import Dense\n",
    "from keras.layers import Dropout\n",
    "from keras.utils import np_utils"
   ]
  },
  {
   "cell_type": "code",
   "execution_count": 28,
   "metadata": {},
   "outputs": [
    {
     "name": "stdout",
     "output_type": "stream",
     "text": [
      "(60000, 28, 28)\n",
      "(60000,)\n",
      "(10000, 28, 28)\n",
      "(10000,)\n"
     ]
    }
   ],
   "source": [
    "#Fix a random number generator seed for reproducibility\n",
    "seed = 7\n",
    "np.random.seed(seed)\n",
    "\n",
    "#Load the mnist data\n",
    "(X_train, y_train), (X_test, y_test) = mnist.load_data()\n",
    "\n",
    "#Print shapes\n",
    "print np.shape(X_train)\n",
    "print np.shape(y_train)\n",
    "print np.shape(X_test)\n",
    "print np.shape(y_test)"
   ]
  },
  {
   "cell_type": "code",
   "execution_count": 29,
   "metadata": {},
   "outputs": [
    {
     "name": "stdout",
     "output_type": "stream",
     "text": [
      "Vectorized shapes:\n",
      "(60000, 784)\n",
      "(10000, 784)\n",
      "Normalizing...\n",
      "1.0 0.0\n",
      "1.0 0.0\n"
     ]
    }
   ],
   "source": [
    "# ==========================================================\n",
    "# Vectorize each image and normalize values\n",
    "# ==========================================================\n",
    "\n",
    "#Get the number of pixel in each image\n",
    "num_pixels = X_train.shape[1] * X_train.shape[2]\n",
    "\n",
    "#Reshape images & type-convert\n",
    "X_train_vec = ( X_train.reshape(X_train.shape[0], num_pixels) ).astype('float32')\n",
    "X_test_vec = ( X_test.reshape(X_test.shape[0], num_pixels) ).astype('float32')\n",
    "\n",
    "#Print shapes for user\n",
    "print \"Vectorized shapes:\"\n",
    "print np.shape(X_train_vec)\n",
    "print np.shape(X_test_vec)\n",
    "\n",
    "#Normalize vectors\n",
    "print \"Normalizing...\"\n",
    "X_train_vec = X_train_vec / 255\n",
    "X_test_vec = X_test_vec / 255\n",
    "\n",
    "#Print normalized range\n",
    "print X_train_vec.max(),\n",
    "print X_train_vec.min()\n",
    "print X_test_vec.max(),\n",
    "print X_test_vec.min()"
   ]
  },
  {
   "cell_type": "code",
   "execution_count": 30,
   "metadata": {},
   "outputs": [
    {
     "name": "stdout",
     "output_type": "stream",
     "text": [
      "(60000, 10)\n",
      "(10000, 10)\n",
      "10\n"
     ]
    }
   ],
   "source": [
    "# ==========================================================\n",
    "# \"One hot encode\" the label vectors\n",
    "# ==========================================================\n",
    "# one hot encode outputs\n",
    "y_train = np_utils.to_categorical(y_train)\n",
    "y_test = np_utils.to_categorical(y_test)\n",
    "num_classes = y_test.shape[1]\n",
    "\n",
    "print np.shape(y_train)\n",
    "print np.shape(y_test)\n",
    "print num_classes"
   ]
  },
  {
   "cell_type": "code",
   "execution_count": 31,
   "metadata": {
    "collapsed": true
   },
   "outputs": [],
   "source": [
    "# ==========================================================\n",
    "# Define multi-layer perceptron model\n",
    "# ==========================================================\n",
    "\n",
    "def baseline_model():\n",
    "    #Create model\n",
    "    model = Sequential()\n",
    "    #Add a single hidden layer with the same number of neurons as there are inputs\n",
    "    model.add(Dense(num_pixels, input_dim=num_pixels, kernel_initializer='normal', activation='relu'))\n",
    "    #Add output layer\n",
    "    model.add(Dense(num_classes, kernel_initializer='normal', activation='softmax'))\n",
    "    #Compile the model\n",
    "    #    logorithmic loss function - 'categorical_crossentropy'\n",
    "    #    \n",
    "    model.compile(loss='categorical_crossentropy', optimizer='adam', metrics=['accuracy'])\n",
    "    return model\n",
    "    "
   ]
  },
  {
   "cell_type": "code",
   "execution_count": 34,
   "metadata": {},
   "outputs": [
    {
     "name": "stdout",
     "output_type": "stream",
     "text": [
      "Train on 60000 samples, validate on 10000 samples\n",
      "Epoch 1/10\n",
      "8s - loss: 0.2754 - acc: 0.9201 - val_loss: 0.1418 - val_acc: 0.9591\n",
      "Epoch 2/10\n",
      "8s - loss: 0.1091 - acc: 0.9685 - val_loss: 0.0930 - val_acc: 0.9718\n",
      "Epoch 3/10\n",
      "8s - loss: 0.0704 - acc: 0.9798 - val_loss: 0.0780 - val_acc: 0.9761\n",
      "Epoch 4/10\n",
      "8s - loss: 0.0497 - acc: 0.9852 - val_loss: 0.0716 - val_acc: 0.9783\n",
      "Epoch 5/10\n",
      "8s - loss: 0.0354 - acc: 0.9900 - val_loss: 0.0656 - val_acc: 0.9785\n",
      "Epoch 6/10\n",
      "8s - loss: 0.0250 - acc: 0.9935 - val_loss: 0.0665 - val_acc: 0.9797\n",
      "Epoch 7/10\n",
      "8s - loss: 0.0192 - acc: 0.9949 - val_loss: 0.0601 - val_acc: 0.9794\n",
      "Epoch 8/10\n",
      "8s - loss: 0.0142 - acc: 0.9968 - val_loss: 0.0583 - val_acc: 0.9825\n",
      "Epoch 9/10\n",
      "8s - loss: 0.0113 - acc: 0.9973 - val_loss: 0.0636 - val_acc: 0.9803\n",
      "Epoch 10/10\n",
      "8s - loss: 0.0078 - acc: 0.9984 - val_loss: 0.0582 - val_acc: 0.9821\n",
      "Baseline Error: 1.79%\n"
     ]
    }
   ],
   "source": [
    "# ==========================================================\n",
    "# Build and test model\n",
    "# ==========================================================\n",
    "\n",
    "#Build the model\n",
    "model = baseline_model()\n",
    "\n",
    "#Fit the model\n",
    "model.fit(X_train_vec, y_train, validation_data=(X_test_vec, y_test), epochs=10, batch_size=200, verbose=2)\n",
    "\n",
    "#Final evaluation of the model\n",
    "scores = model.evaluate(X_test_vec, y_test, verbose=0)\n",
    "print(\"Baseline Error: %.2f%%\" % (100-scores[1]*100))\n"
   ]
  },
  {
   "cell_type": "code",
   "execution_count": null,
   "metadata": {
    "collapsed": true
   },
   "outputs": [],
   "source": []
  }
 ],
 "metadata": {
  "kernelspec": {
   "display_name": "Python 2",
   "language": "python",
   "name": "python2"
  },
  "language_info": {
   "codemirror_mode": {
    "name": "ipython",
    "version": 2
   },
   "file_extension": ".py",
   "mimetype": "text/x-python",
   "name": "python",
   "nbconvert_exporter": "python",
   "pygments_lexer": "ipython2",
   "version": "2.7.13"
  }
 },
 "nbformat": 4,
 "nbformat_minor": 2
}
